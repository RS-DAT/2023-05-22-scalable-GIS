{
 "cells": [
  {
   "cell_type": "markdown",
   "id": "a536b665-275a-4e42-b7a0-4248079cf811",
   "metadata": {},
   "source": [
    "# Scaling Proximity and Accessibility Analysis Using Dask\n",
    "\n",
    "## 1. Introduction\n",
    "\n",
    "In this notebook, we use [Dask](https://www.dask.org) to run in parallel the proximity and accessibility analysis based on [Pandana](https://udst.github.io/pandana/), which we have introduced in the first notebook, on a set of cities.\n",
    "\n",
    "## 2. Dask \n",
    "\n",
    "Dask is a Python library for parallel and distributed computing. \n",
    "\n",
    "From the [Dask documentation](https://docs.dask.org):\n",
    "\n",
    "![](https://docs.dask.org/en/stable/_images/dask-overview.svg)\n",
    "\n",
    "Dask can lead to:\n",
    "\n",
    "* faster calculations.\n",
    "* lower memory requirements.\n",
    "\n",
    ".. but the actual speed up/memory footprint are heavily influenced by:\n",
    "* the calculations/algorithm that we want to parallelize.\n",
    "* the size of the dataset.\n",
    "* parameters (chunk size and shape).\n",
    "\n",
    "Always start from serial calculations!"
   ]
  },
  {
   "cell_type": "markdown",
   "id": "730655ed",
   "metadata": {},
   "source": [
    "## 3. The analysis"
   ]
  },
  {
   "cell_type": "code",
   "execution_count": null,
   "id": "ae21fa3b-9c40-4f59-b340-e15f9bffa037",
   "metadata": {
    "tags": []
   },
   "outputs": [],
   "source": [
    "import os\n",
    "os.environ[\"OMP_NUM_THREADS\"] = \"1\"  # disable Pandana multithreading \n",
    "os.environ[\"USE_PYGEOS\"] = \"0\"  # suppress geopandas warning\n",
    "\n",
    "from pathlib import Path\n",
    "\n",
    "import pandana\n",
    "import geopandas as gpd\n",
    "import matplotlib\n",
    "import matplotlib.pyplot as plt"
   ]
  },
  {
   "cell_type": "markdown",
   "id": "36547776-5056-4ea7-a26e-3ca07db66ad2",
   "metadata": {},
   "source": [
    "The following functions define the proximity and accessibility analysis that we want to carry out for a set of cities:"
   ]
  },
  {
   "cell_type": "code",
   "execution_count": null,
   "id": "803bdd7d-eb41-4a98-9ac0-059663f7aff1",
   "metadata": {
    "tags": []
   },
   "outputs": [],
   "source": [
    "def load_features(data_folder, city, features):\n",
    "    \"\"\"\n",
    "    Load features for the provided city, return a GeoDataFrame\n",
    "    \"\"\"\n",
    "    file_path = Path(data_folder) / city / f\"{features}_{city}.shp\"\n",
    "    features = gpd.read_file(file_path)\n",
    "    return features"
   ]
  },
  {
   "cell_type": "code",
   "execution_count": null,
   "id": "b643ceb9-f5ca-48df-934a-c4713ee5e7f7",
   "metadata": {
    "tags": []
   },
   "outputs": [],
   "source": [
    "def build_network(nodes, edges, parks):\n",
    "    \"\"\"\n",
    "    Set up a Network object using parks as points of interest (POIs)\n",
    "    \"\"\"\n",
    "    # set indexes for nodes and edges\n",
    "    nodes = nodes.set_index(\"osmid\", drop=False)\n",
    "    edges = edges.set_index([\"u\", \"v\"], drop=False)\n",
    "    \n",
    "    # set up the network\n",
    "    network = pandana.Network(\n",
    "        node_x=nodes[\"x\"], \n",
    "        node_y=nodes[\"y\"], \n",
    "        edge_from=edges[\"u\"], \n",
    "        edge_to=edges[\"v\"], \n",
    "        edge_weights=edges[[\"length\"]],\n",
    "    )\n",
    "\n",
    "    # set park centroids as points of interest\n",
    "    network.set_pois(\n",
    "        category=\"parks\",\n",
    "        maxdist=1000,\n",
    "        maxitems=25,\n",
    "        x_col=parks.centroid.x,\n",
    "        y_col=parks.centroid.y,\n",
    "    )\n",
    "    \n",
    "    return network"
   ]
  },
  {
   "cell_type": "code",
   "execution_count": null,
   "id": "b34ee371",
   "metadata": {
    "tags": []
   },
   "outputs": [],
   "source": [
    "def proximity_analysis(nodes, edges, parks):\n",
    "    \"\"\"\n",
    "    Run proximity analysis: for all nodes, find distance of closest\n",
    "    parks.\n",
    "    \"\"\"\n",
    "   # build network\n",
    "    network = build_network(nodes, edges, parks)    \n",
    "\n",
    "    # for all nodes, find 3 closest parks within 800m\n",
    "    proximity = network.nearest_pois(\n",
    "        distance=800,\n",
    "        category=\"parks\",\n",
    "        num_pois=3,\n",
    "        include_poi_ids=False\n",
    "    )\n",
    "\n",
    "    return proximity"
   ]
  },
  {
   "cell_type": "code",
   "execution_count": null,
   "id": "41d4d075-7b6b-454c-b023-4975b9a2781a",
   "metadata": {
    "tags": []
   },
   "outputs": [],
   "source": [
    "def accessibility_analysis(nodes, edges, parks, buildings, d=800):\n",
    "    \"\"\"\n",
    "    Run accessibility analysis: for all buildings, find how many\n",
    "    parks fall within a given distance. \n",
    "    \"\"\"\n",
    "    # build network\n",
    "    network = build_network(nodes, edges, parks)\n",
    "\n",
    "    # add target points to network\n",
    "    node_ids = network.get_node_ids(\n",
    "        x_col=parks.centroid.x, \n",
    "        y_col=parks.centroid.y\n",
    "    )\n",
    "    network.set(node_ids, name=\"parks\")\n",
    "\n",
    "    # for all nodes, find how many parks fall within distance d\n",
    "    accessibility = network.aggregate(\n",
    "        distance=d,\n",
    "        type=\"count\",\n",
    "        name=\"parks\"\n",
    "    )\n",
    "\n",
    "    # assign accessibility of buildings using closest nodes \n",
    "    node_ids = network.get_node_ids(\n",
    "        x_col=buildings.centroid.x, \n",
    "        y_col=buildings.centroid.y\n",
    "    )\n",
    "    buildings[\"accessibility\"] = node_ids.map(\n",
    "        accessibility.to_dict()\n",
    "    )\n",
    "\n",
    "    return buildings"
   ]
  },
  {
   "cell_type": "markdown",
   "id": "e1065c26-b4fd-46e0-8f63-833a7a490879",
   "metadata": {},
   "source": [
    "We will load data from the following path on Spider:"
   ]
  },
  {
   "cell_type": "code",
   "execution_count": null,
   "id": "fb651bd2-4ee5-4269-b3a7-ac2c0eb0af03",
   "metadata": {
    "tags": []
   },
   "outputs": [],
   "source": [
    "data_folder = Path(\"/project/stursdat/Data/ScalableGIS/Part2/data_9_cities\")"
   ]
  },
  {
   "cell_type": "code",
   "execution_count": null,
   "id": "9019ed50-c2c2-445a-8b0a-b5c7000c8685",
   "metadata": {
    "tags": []
   },
   "outputs": [],
   "source": [
    "!tree $data_folder"
   ]
  },
  {
   "cell_type": "markdown",
   "id": "47409cfc-ce88-4ba8-8dc7-060dc15af41c",
   "metadata": {},
   "source": [
    "Let's test these functions for a city, Delft:"
   ]
  },
  {
   "cell_type": "code",
   "execution_count": null,
   "id": "f22b1fb2-5374-41cd-a384-ead11bc4f7ed",
   "metadata": {
    "tags": []
   },
   "outputs": [],
   "source": [
    "city = \"Delft\""
   ]
  },
  {
   "cell_type": "code",
   "execution_count": null,
   "id": "69317147-7935-4cc3-87f1-b773ebed0be2",
   "metadata": {},
   "outputs": [],
   "source": []
  },
  {
   "cell_type": "code",
   "execution_count": null,
   "id": "19ac0630-ba66-4894-896c-f9d1e1339c77",
   "metadata": {},
   "outputs": [],
   "source": []
  },
  {
   "cell_type": "code",
   "execution_count": null,
   "id": "9e51366a-55c4-4e97-8323-8b804847cc55",
   "metadata": {},
   "outputs": [],
   "source": []
  },
  {
   "cell_type": "markdown",
   "id": "0985ae14-aa45-4e80-8088-ad0fd8a8d045",
   "metadata": {},
   "source": [
    "## 4. Run steps in parallel using Dask Delayed\n",
    "\n",
    "The [Dask Delayed](https://docs.dask.org/en/stable/delayed.html) abstraction allows one to easily generate task graphs from Python functions."
   ]
  },
  {
   "cell_type": "code",
   "execution_count": null,
   "id": "ab6d8ab3-ab89-49a3-80dc-e577c7d0b4c6",
   "metadata": {},
   "outputs": [],
   "source": []
  },
  {
   "cell_type": "code",
   "execution_count": null,
   "id": "10c87213-c4fc-4696-8e09-f90f806cb584",
   "metadata": {},
   "outputs": [],
   "source": []
  },
  {
   "cell_type": "code",
   "execution_count": null,
   "id": "64f024be-9e9e-4bd3-88b4-776b80be0505",
   "metadata": {},
   "outputs": [],
   "source": []
  },
  {
   "cell_type": "markdown",
   "id": "2ca31a28-6e91-48a8-901f-466d13ddcfff",
   "metadata": {},
   "source": [
    "## 5. Run the analyses for all cities using Dask Bags\n",
    "\n",
    "[Dask Bags](https://docs.dask.org/en/latest/bag.html) implement operations such as `map`/`reduce` on Python collections."
   ]
  },
  {
   "cell_type": "code",
   "execution_count": null,
   "id": "f66b2eed-0b0e-4a9c-9cc3-025922011cc8",
   "metadata": {},
   "outputs": [],
   "source": []
  },
  {
   "cell_type": "code",
   "execution_count": null,
   "id": "817e56e2-891f-425e-99b7-807d1352f73b",
   "metadata": {},
   "outputs": [],
   "source": []
  },
  {
   "cell_type": "code",
   "execution_count": null,
   "id": "07a840fe-4cd0-44c9-a1f8-8b966e40466e",
   "metadata": {},
   "outputs": [],
   "source": []
  },
  {
   "cell_type": "markdown",
   "id": "4a94fd51-5044-473a-8bff-c505efc2fa5a",
   "metadata": {},
   "source": [
    "Let's generate one plot for each of the cities:"
   ]
  },
  {
   "cell_type": "code",
   "execution_count": null,
   "id": "168c9285-e9ae-49ae-857e-1ca741690729",
   "metadata": {
    "tags": []
   },
   "outputs": [],
   "source": [
    "fig_folder = Path.cwd().parent / \"fig\"\n",
    "fig_folder.mkdir(exist_ok=True)"
   ]
  },
  {
   "cell_type": "code",
   "execution_count": 31,
   "id": "588f4058-02d3-45b1-acdc-f9f41889dfe8",
   "metadata": {
    "tags": []
   },
   "outputs": [],
   "source": [
    "def plot(city, parks, buildings, fig_folder):\n",
    "    \"\"\"\n",
    "    Visualize the buildings using the results of the\n",
    "    accessibility analysis, then save the figure.\n",
    "    \"\"\"\n",
    "    fig, ax = plt.subplots(figsize=(10, 10))\n",
    "    \n",
    "    parks.plot(\n",
    "        ax=ax,\n",
    "        color=\"green\"\n",
    "    )\n",
    "    \n",
    "    buildings.plot(\n",
    "        ax=ax,\n",
    "        column=\"accessibility\",  \n",
    "        cmap=\"autumn\",\n",
    "        norm=matplotlib.colors.LogNorm(),\n",
    "        figsize=(20,20),\n",
    "    )\n",
    "\n",
    "    ax.set_axis_off()\n",
    "    fig_path = Path(fig_folder) / f\"{city}.png\"\n",
    "    fig.savefig(fig_path)"
   ]
  },
  {
   "cell_type": "code",
   "execution_count": null,
   "id": "646f7087-6d7d-49c2-afa9-bdfb4f41cf01",
   "metadata": {},
   "outputs": [],
   "source": []
  },
  {
   "cell_type": "code",
   "execution_count": null,
   "id": "0902229f-73ce-4bab-b389-87ae49ea457b",
   "metadata": {},
   "outputs": [],
   "source": []
  },
  {
   "cell_type": "code",
   "execution_count": null,
   "id": "41ee049b-47cc-4a8a-af62-c106ab1db744",
   "metadata": {},
   "outputs": [],
   "source": []
  }
 ],
 "metadata": {
  "kernelspec": {
   "display_name": "Python 3 (ipykernel)",
   "language": "python",
   "name": "python3"
  },
  "language_info": {
   "codemirror_mode": {
    "name": "ipython",
    "version": 3
   },
   "file_extension": ".py",
   "mimetype": "text/x-python",
   "name": "python",
   "nbconvert_exporter": "python",
   "pygments_lexer": "ipython3",
   "version": "3.10.11"
  }
 },
 "nbformat": 4,
 "nbformat_minor": 5
}
