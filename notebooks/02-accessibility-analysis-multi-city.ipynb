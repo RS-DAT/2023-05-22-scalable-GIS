{
 "cells": [
  {
   "cell_type": "markdown",
   "id": "a536b665-275a-4e42-b7a0-4248079cf811",
   "metadata": {},
   "source": [
    "# Scaling Proximity and Accessibility Analysis Using Dask\n",
    "\n",
    "## 1. Introduction\n",
    "\n",
    "In this notebook, we use [Dask](https://www.dask.org) to run in parallel the proximity and accessibility analysis based on [Pandana](https://udst.github.io/pandana/), which we have introduced in the first notebook, on a set of cities.\n",
    "\n",
    "## 2. Dask \n",
    "\n",
    "Dask is a Python library for parallel and distributed computing. \n",
    "\n",
    "From the [Dask documentation](https://docs.dask.org):\n",
    "\n",
    "![](https://docs.dask.org/en/stable/_images/dask-overview.svg)\n",
    "\n",
    "Dask can lead to:\n",
    "\n",
    "* faster calculations.\n",
    "* lower memory requirements.\n",
    "\n",
    ".. but the actual speed up/memory footprint are heavily influenced by:\n",
    "* the calculations/algorithm that we want to parallelize.\n",
    "* the size of the dataset.\n",
    "* parameters (chunk size and shape).\n",
    "\n",
    "Always start from serial calculations!"
   ]
  },
  {
   "cell_type": "markdown",
   "id": "730655ed",
   "metadata": {},
   "source": [
    "## 3. The analysis"
   ]
  },
  {
   "cell_type": "code",
   "execution_count": null,
   "id": "ae21fa3b-9c40-4f59-b340-e15f9bffa037",
   "metadata": {
    "tags": []
   },
   "outputs": [],
   "source": [
    "import os\n",
    "os.environ[\"OMP_NUM_THREADS\"] = \"1\"  # disable Pandana multithreading \n",
    "os.environ[\"USE_PYGEOS\"] = \"0\"  # suppress geopandas warning\n",
    "\n",
    "from pathlib import Path\n",
    "\n",
    "import pandana\n",
    "import geopandas as gpd\n",
    "import matplotlib\n",
    "import matplotlib.pyplot as plt"
   ]
  },
  {
   "cell_type": "markdown",
   "id": "36547776-5056-4ea7-a26e-3ca07db66ad2",
   "metadata": {},
   "source": [
    "The following functions define the proximity and accessibility analysis that we want to carry out for a set of cities:"
   ]
  },
  {
   "cell_type": "code",
   "execution_count": null,
   "id": "803bdd7d-eb41-4a98-9ac0-059663f7aff1",
   "metadata": {
    "tags": []
   },
   "outputs": [],
   "source": [
    "def load_features(data_folder, city, features):\n",
    "    \"\"\"\n",
    "    Load features for the provided city, return a GeoDataFrame\n",
    "    \"\"\"\n",
    "    file_path = Path(data_folder) / city / f\"{features}_{city}.shp\"\n",
    "    features = gpd.read_file(file_path)\n",
    "    return features"
   ]
  },
  {
   "cell_type": "code",
   "execution_count": null,
   "id": "b643ceb9-f5ca-48df-934a-c4713ee5e7f7",
   "metadata": {
    "tags": []
   },
   "outputs": [],
   "source": [
    "def build_network(nodes, edges, parks):\n",
    "    \"\"\"\n",
    "    Set up a Network object using parks as points of interest (POIs)\n",
    "    \"\"\"\n",
    "    # set indexes for nodes and edges\n",
    "    nodes = nodes.set_index(\"osmid\", drop=False)\n",
    "    edges = edges.set_index([\"u\", \"v\"], drop=False)\n",
    "    \n",
    "    # set up the network\n",
    "    network = pandana.Network(\n",
    "        node_x=nodes[\"x\"], \n",
    "        node_y=nodes[\"y\"], \n",
    "        edge_from=edges[\"u\"], \n",
    "        edge_to=edges[\"v\"], \n",
    "        edge_weights=edges[[\"length\"]],\n",
    "    )\n",
    "\n",
    "    # set park centroids as points of interest\n",
    "    network.set_pois(\n",
    "        category=\"parks\",\n",
    "        maxdist=1000,\n",
    "        maxitems=25,\n",
    "        x_col=parks.centroid.x,\n",
    "        y_col=parks.centroid.y,\n",
    "    )\n",
    "    \n",
    "    return network"
   ]
  },
  {
   "cell_type": "code",
   "execution_count": null,
   "id": "b34ee371",
   "metadata": {
    "tags": []
   },
   "outputs": [],
   "source": [
    "def proximity_analysis(nodes, edges, parks):\n",
    "    \"\"\"\n",
    "    Run proximity analysis: for all nodes, find distance of closest\n",
    "    parks.\n",
    "    \"\"\"\n",
    "   # build network\n",
    "    network = build_network(nodes, edges, parks)    \n",
    "\n",
    "    # for all nodes, find 3 closest parks within 800m\n",
    "    proximity = network.nearest_pois(\n",
    "        distance=800,\n",
    "        category=\"parks\",\n",
    "        num_pois=3,\n",
    "        include_poi_ids=False\n",
    "    )\n",
    "\n",
    "    return proximity"
   ]
  },
  {
   "cell_type": "code",
   "execution_count": null,
   "id": "41d4d075-7b6b-454c-b023-4975b9a2781a",
   "metadata": {
    "tags": []
   },
   "outputs": [],
   "source": [
    "def accessibility_analysis(nodes, edges, parks, buildings, d=800):\n",
    "    \"\"\"\n",
    "    Run accessibility analysis: for all buildings, find how many\n",
    "    parks fall within a given distance. \n",
    "    \"\"\"\n",
    "    # build network\n",
    "    network = build_network(nodes, edges, parks)\n",
    "\n",
    "    # add target points to network\n",
    "    node_ids = network.get_node_ids(\n",
    "        x_col=parks.centroid.x, \n",
    "        y_col=parks.centroid.y\n",
    "    )\n",
    "    network.set(node_ids, name=\"parks\")\n",
    "\n",
    "    # for all nodes, find how many parks fall within distance d\n",
    "    accessibility = network.aggregate(\n",
    "        distance=d,\n",
    "        type=\"count\",\n",
    "        name=\"parks\"\n",
    "    )\n",
    "\n",
    "    # assign accessibility of buildings using closest nodes \n",
    "    node_ids = network.get_node_ids(\n",
    "        x_col=buildings.centroid.x, \n",
    "        y_col=buildings.centroid.y\n",
    "    )\n",
    "    buildings[\"accessibility\"] = node_ids.map(\n",
    "        accessibility.to_dict()\n",
    "    )\n",
    "\n",
    "    return buildings"
   ]
  },
  {
   "cell_type": "markdown",
   "id": "e1065c26-b4fd-46e0-8f63-833a7a490879",
   "metadata": {},
   "source": [
    "We will load data from the following path on Spider:"
   ]
  },
  {
   "cell_type": "code",
   "execution_count": null,
   "id": "fb651bd2-4ee5-4269-b3a7-ac2c0eb0af03",
   "metadata": {
    "tags": []
   },
   "outputs": [],
   "source": [
    "data_folder = Path(\"/project/stursdat/Data/ScalableGIS/Part2/data_9_cities\")"
   ]
  },
  {
   "cell_type": "code",
   "execution_count": null,
   "id": "9019ed50-c2c2-445a-8b0a-b5c7000c8685",
   "metadata": {
    "tags": []
   },
   "outputs": [],
   "source": [
    "!tree $data_folder"
   ]
  },
  {
   "cell_type": "markdown",
   "id": "47409cfc-ce88-4ba8-8dc7-060dc15af41c",
   "metadata": {},
   "source": [
    "Let's test these functions for a city, Delft:"
   ]
  },
  {
   "cell_type": "code",
   "execution_count": null,
   "id": "f22b1fb2-5374-41cd-a384-ead11bc4f7ed",
   "metadata": {
    "tags": []
   },
   "outputs": [],
   "source": [
    "city = \"Delft\""
   ]
  },
  {
   "cell_type": "code",
   "execution_count": null,
   "id": "8fa34588-7d51-4875-bc13-332540bbfd5f",
   "metadata": {
    "tags": []
   },
   "outputs": [],
   "source": [
    "%%time\n",
    "parks = load_features(data_folder, city, \"parks\")\n",
    "nodes = load_features(data_folder, city, \"nodes\")\n",
    "edges = load_features(data_folder, city, \"edges\")\n",
    "buildings = load_features(data_folder, city, \"buildings\")"
   ]
  },
  {
   "cell_type": "code",
   "execution_count": null,
   "id": "a033b6f4-99b3-4f44-b95b-bfe0fa44bd9b",
   "metadata": {
    "tags": []
   },
   "outputs": [],
   "source": [
    "%%time\n",
    "proximity = proximity_analysis(nodes, edges, parks)"
   ]
  },
  {
   "cell_type": "code",
   "execution_count": null,
   "id": "91ba929c-78ca-43db-880b-5511fdc6af7d",
   "metadata": {
    "tags": []
   },
   "outputs": [],
   "source": [
    "%%time\n",
    "accessibility = accessibility_analysis(nodes, edges, parks, buildings)"
   ]
  },
  {
   "cell_type": "markdown",
   "id": "0985ae14-aa45-4e80-8088-ad0fd8a8d045",
   "metadata": {},
   "source": [
    "## 4. Run steps in parallel using Dask Delayed\n",
    "\n",
    "The [Dask Delayed](https://docs.dask.org/en/stable/delayed.html) abstraction allows one to easily generate task graphs from Python functions."
   ]
  },
  {
   "cell_type": "code",
   "execution_count": null,
   "id": "85f8c96e-9c32-4d85-9e2f-37748c781b76",
   "metadata": {
    "tags": []
   },
   "outputs": [],
   "source": [
    "from dask.delayed import delayed"
   ]
  },
  {
   "cell_type": "code",
   "execution_count": null,
   "id": "707bfbf9-8cde-4e38-8ef5-9150e9d05a0b",
   "metadata": {
    "tags": []
   },
   "outputs": [],
   "source": [
    "load_features_lazy = delayed(load_features)"
   ]
  },
  {
   "cell_type": "code",
   "execution_count": null,
   "id": "0ccb9193-b70e-4e30-9484-0eede022c00f",
   "metadata": {
    "tags": []
   },
   "outputs": [],
   "source": [
    "parks_p = load_features_lazy(data_folder, city, \"parks\")\n",
    "nodes_p = load_features_lazy(data_folder, city, \"nodes\")\n",
    "edges_p = load_features_lazy(data_folder, city, \"edges\")\n",
    "buildings_p = load_features_lazy(data_folder, city, \"buildings\")"
   ]
  },
  {
   "cell_type": "code",
   "execution_count": null,
   "id": "b1be6689-9249-44dd-ab94-636b3efded92",
   "metadata": {
    "tags": []
   },
   "outputs": [],
   "source": [
    "proximity_analysis_lazy = delayed(proximity_analysis)"
   ]
  },
  {
   "cell_type": "code",
   "execution_count": null,
   "id": "c03cbe35-379c-426f-a2c9-18396dd23c08",
   "metadata": {
    "tags": []
   },
   "outputs": [],
   "source": [
    "proximity_p = proximity_analysis_lazy(nodes_p, edges_p, parks_p)"
   ]
  },
  {
   "cell_type": "code",
   "execution_count": null,
   "id": "59d1dce5-be6e-494d-8c06-1b667d3572d0",
   "metadata": {
    "tags": []
   },
   "outputs": [],
   "source": [
    "import dask\n",
    "dask.visualize(proximity_p)"
   ]
  },
  {
   "cell_type": "code",
   "execution_count": null,
   "id": "1ad166d9-edd4-48ef-b957-e645b7f24c05",
   "metadata": {
    "tags": []
   },
   "outputs": [],
   "source": [
    "accessibility_analysis_lazy = delayed(accessibility_analysis)"
   ]
  },
  {
   "cell_type": "code",
   "execution_count": null,
   "id": "0712e97c-2db2-44be-8958-dddf73b15b9a",
   "metadata": {
    "tags": []
   },
   "outputs": [],
   "source": [
    "accessibility_p = accessibility_analysis_lazy(nodes_p, edges_p, parks_p, buildings_p)"
   ]
  },
  {
   "cell_type": "code",
   "execution_count": null,
   "id": "14beff06-ae4f-48bf-a1b7-ffd83eaa8420",
   "metadata": {
    "tags": []
   },
   "outputs": [],
   "source": [
    "dask.visualize(accessibility_p)"
   ]
  },
  {
   "cell_type": "code",
   "execution_count": null,
   "id": "c0485be6-c5ad-4cbb-8f6f-0f613681b291",
   "metadata": {
    "tags": []
   },
   "outputs": [],
   "source": [
    "dask.visualize([proximity_p, accessibility_p])"
   ]
  },
  {
   "cell_type": "code",
   "execution_count": null,
   "id": "1426d579-060f-4171-8f17-eb7669bf1b1d",
   "metadata": {
    "tags": []
   },
   "outputs": [],
   "source": [
    "from dask.distributed import Client\n",
    "\n",
    "client = Client(\"tcp://10.0.2.120:42289\")\n",
    "client"
   ]
  },
  {
   "cell_type": "code",
   "execution_count": null,
   "id": "97508025-cbb2-4d38-ae45-5edef57cec64",
   "metadata": {
    "tags": []
   },
   "outputs": [],
   "source": [
    "%%time\n",
    "proximity, accessibility = dask.compute(proximity_p, accessibility_p)"
   ]
  },
  {
   "cell_type": "markdown",
   "id": "2ca31a28-6e91-48a8-901f-466d13ddcfff",
   "metadata": {},
   "source": [
    "## 5. Run the analyses for all cities using Dask Bags\n",
    "\n",
    "[Dask Bags](https://docs.dask.org/en/latest/bag.html) implement operations such as `map`/`reduce` on Python collections."
   ]
  },
  {
   "cell_type": "code",
   "execution_count": null,
   "id": "b4f15ba3-224b-4c7c-8f92-2ef4641606ec",
   "metadata": {
    "tags": []
   },
   "outputs": [],
   "source": [
    "cities = [el.name for el in data_folder.glob(\"*\")]"
   ]
  },
  {
   "cell_type": "code",
   "execution_count": null,
   "id": "c0b9d8d2-2530-4ca9-a38b-a3c39b578bb9",
   "metadata": {
    "tags": []
   },
   "outputs": [],
   "source": [
    "import dask.bag as db\n",
    "cities_bag = db.from_sequence(cities)"
   ]
  },
  {
   "cell_type": "code",
   "execution_count": null,
   "id": "83af285d-ffee-49ab-9c35-393d7413b5fb",
   "metadata": {
    "tags": []
   },
   "outputs": [],
   "source": [
    "nodes_bag = db.map(load_features, data_folder, cities_bag, \"nodes\")\n",
    "edges_bag = db.map(load_features, data_folder, cities_bag, \"edges\")\n",
    "parks_bag = db.map(load_features, data_folder, cities_bag, \"parks\")\n",
    "buildings_bag = db.map(load_features, data_folder, cities_bag, \"buildings\")"
   ]
  },
  {
   "cell_type": "code",
   "execution_count": null,
   "id": "1f0f1556-70f2-4f87-8933-8d9b681abc9f",
   "metadata": {
    "tags": []
   },
   "outputs": [],
   "source": [
    "accessibility_bag = db.map(accessibility_analysis, nodes_bag, edges_bag, parks_bag, buildings_bag)"
   ]
  },
  {
   "cell_type": "code",
   "execution_count": null,
   "id": "b94c29c4-f432-4283-a341-f420b5a02277",
   "metadata": {
    "tags": []
   },
   "outputs": [],
   "source": [
    "dask.visualize(accessibility_bag)"
   ]
  },
  {
   "cell_type": "markdown",
   "id": "4a94fd51-5044-473a-8bff-c505efc2fa5a",
   "metadata": {},
   "source": [
    "Let's generate one plot for each of the cities:"
   ]
  },
  {
   "cell_type": "code",
   "execution_count": null,
   "id": "168c9285-e9ae-49ae-857e-1ca741690729",
   "metadata": {
    "tags": []
   },
   "outputs": [],
   "source": [
    "fig_folder = Path.cwd().parent / \"fig\"\n",
    "fig_folder.mkdir(exist_ok=True)"
   ]
  },
  {
   "cell_type": "code",
   "execution_count": 31,
   "id": "588f4058-02d3-45b1-acdc-f9f41889dfe8",
   "metadata": {
    "tags": []
   },
   "outputs": [],
   "source": [
    "def plot(city, parks, buildings, fig_folder):\n",
    "    \"\"\"\n",
    "    Visualize the buildings using the results of the\n",
    "    accessibility analysis, then save the figure.\n",
    "    \"\"\"\n",
    "    fig, ax = plt.subplots(figsize=(10, 10))\n",
    "    \n",
    "    parks.plot(\n",
    "        ax=ax,\n",
    "        color=\"green\"\n",
    "    )\n",
    "    \n",
    "    buildings.plot(\n",
    "        ax=ax,\n",
    "        column=\"accessibility\",  \n",
    "        cmap=\"autumn\",\n",
    "        norm=matplotlib.colors.LogNorm(),\n",
    "        figsize=(20,20),\n",
    "    )\n",
    "\n",
    "    ax.set_axis_off()\n",
    "    fig_path = Path(fig_folder) / f\"{city}.png\"\n",
    "    fig.savefig(fig_path)"
   ]
  },
  {
   "cell_type": "code",
   "execution_count": null,
   "id": "7e3e4dd1-bcad-4a60-8679-43a0e5ba94ef",
   "metadata": {
    "tags": []
   },
   "outputs": [],
   "source": [
    "res = db.map(plot, cities_bag, parks_bag, accessibility_bag, fig_folder)"
   ]
  },
  {
   "cell_type": "code",
   "execution_count": null,
   "id": "ed763035-6c44-4a44-88a7-ce1a98f72dd4",
   "metadata": {
    "tags": []
   },
   "outputs": [],
   "source": [
    "dask.compute(res)"
   ]
  }
 ],
 "metadata": {
  "kernelspec": {
   "display_name": "Python 3 (ipykernel)",
   "language": "python",
   "name": "python3"
  },
  "language_info": {
   "codemirror_mode": {
    "name": "ipython",
    "version": 3
   },
   "file_extension": ".py",
   "mimetype": "text/x-python",
   "name": "python",
   "nbconvert_exporter": "python",
   "pygments_lexer": "ipython3",
   "version": "3.10.11"
  }
 },
 "nbformat": 4,
 "nbformat_minor": 5
}
