{
 "cells": [
  {
   "attachments": {},
   "cell_type": "markdown",
   "id": "7b7fb009-1bbd-4b4e-9bb9-1f4aed3b211a",
   "metadata": {},
   "source": [
    "# Proximity and Accessibility analysis using Pandana\n",
    "\n",
    "In this part, we will demonstrate how to perform proximity and accessibility analysis using the `pandana` library. The analysis will be carried out to one city: Delft.\n",
    "\n",
    "In the next part, we will see how to scale this up to 9 cities."
   ]
  },
  {
   "attachments": {},
   "cell_type": "markdown",
   "id": "730655ed",
   "metadata": {},
   "source": [
    "## Set up environment"
   ]
  },
  {
   "cell_type": "code",
   "execution_count": null,
   "id": "ae21fa3b-9c40-4f59-b340-e15f9bffa037",
   "metadata": {
    "tags": []
   },
   "outputs": [],
   "source": [
    "import os\n",
    "os.environ[\"OMP_NUM_THREADS\"] = \"1\"  # disable Pandana multithreading \n",
    "os.environ[\"USE_PYGEOS\"] = \"0\"  # suppress geopandas warning\n",
    "\n",
    "import pandana\n",
    "import geopandas as gpd\n",
    "import matplotlib\n",
    "import matplotlib.pyplot as plt"
   ]
  },
  {
   "attachments": {},
   "cell_type": "markdown",
   "id": "086b5e17",
   "metadata": {},
   "source": [
    "## Data Loading\n",
    "\n",
    "We will load data from the following path on Spider: `/project/stursdat/Data/ScalableGIS/Part2/data_9_cities`. We use the `pathlib.Path` library to handle the path object."
   ]
  },
  {
   "cell_type": "code",
   "execution_count": null,
   "id": "f0f805bc",
   "metadata": {},
   "outputs": [],
   "source": [
    "from pathlib import Path\n",
    "\n",
    "data_folder = "
   ]
  },
  {
   "attachments": {},
   "cell_type": "markdown",
   "id": "9a9541fe",
   "metadata": {},
   "source": [
    "In the `data_9_cities` folder, there are 9 folders for 9 Dutch cities. Within each city folder, there are `.shp` files for four componets of that city:\n",
    "\n",
    "- **buildings**: building polygons\n",
    "- **parks**: park polygons\n",
    "- **nodes**: street network nodes\n",
    "- **edges**: street network edges\n"
   ]
  },
  {
   "cell_type": "code",
   "execution_count": null,
   "id": "8cafcad9",
   "metadata": {},
   "outputs": [],
   "source": [
    "# Check city folders in the data directory\n"
   ]
  },
  {
   "cell_type": "code",
   "execution_count": null,
   "id": "91a553c2",
   "metadata": {},
   "outputs": [],
   "source": [
    "# Check .shp files in the Delft folder\n"
   ]
  },
  {
   "cell_type": "code",
   "execution_count": null,
   "id": "ba0dd14d",
   "metadata": {},
   "outputs": [],
   "source": [
    "# For now we focus on the city Delft\n",
    "city = 'Delft'"
   ]
  },
  {
   "attachments": {},
   "cell_type": "markdown",
   "id": "d71f31c8",
   "metadata": {},
   "source": [
    "Then we load the four components of Delft"
   ]
  },
  {
   "cell_type": "code",
   "execution_count": null,
   "id": "b2d00fa1",
   "metadata": {},
   "outputs": [],
   "source": [
    "# Paths to the files\n",
    "p_nodes = data_folder / city / \"nodes_{}.shp\".format(city)\n",
    "p_edges = data_folder / city / \"edges_{}.shp\".format(city)\n",
    "p_parks = data_folder / city / \"parks_{}.shp\".format(city)\n",
    "p_buildings = data_folder / city / \"buildings_{}.shp\".format(city)"
   ]
  },
  {
   "cell_type": "code",
   "execution_count": null,
   "id": "bddcdaa3",
   "metadata": {},
   "outputs": [],
   "source": [
    "# Check if paths exist\n"
   ]
  },
  {
   "cell_type": "code",
   "execution_count": null,
   "id": "f338e38f-1620-4257-9b79-0b2d635077db",
   "metadata": {
    "tags": []
   },
   "outputs": [],
   "source": [
    "# load data with GeoPandas\n"
   ]
  },
  {
   "cell_type": "code",
   "execution_count": null,
   "id": "3182012d",
   "metadata": {},
   "outputs": [],
   "source": [
    "# Set indexes for nodes and edges\n"
   ]
  },
  {
   "cell_type": "code",
   "execution_count": null,
   "id": "e8384986-0c73-4dee-b16d-5158fdb86fbf",
   "metadata": {
    "tags": []
   },
   "outputs": [],
   "source": [
    "# setup a network\n",
    "network = pandana.Network(\n",
    "    node_x=, \n",
    "    node_y=, \n",
    "    edge_from=, \n",
    "    edge_to=, \n",
    "    edge_weights=,\n",
    ")"
   ]
  },
  {
   "attachments": {},
   "cell_type": "markdown",
   "id": "0287c981-61d3-451c-946d-6a8f42a7cd35",
   "metadata": {},
   "source": [
    "## Proximity analysis "
   ]
  },
  {
   "cell_type": "code",
   "execution_count": null,
   "id": "a543898a-3e68-4233-a188-c29a0f63a2e1",
   "metadata": {
    "tags": []
   },
   "outputs": [],
   "source": [
    "# add point of interests to network\n",
    "network.set_pois(\n",
    "    category=,\n",
    "    maxdist=1000,\n",
    "    maxitems=25,\n",
    "    x_col=,\n",
    "    y_col=,\n",
    ")"
   ]
  },
  {
   "cell_type": "code",
   "execution_count": null,
   "id": "8e15ff24-99e8-49f2-9727-4ec41f23577c",
   "metadata": {
    "tags": []
   },
   "outputs": [],
   "source": [
    "# for all nodes, find 3 closest parks within 800m\n",
    "proximity = network.nearest_pois(\n",
    "    distance=,\n",
    "    category=,\n",
    "    num_pois=,\n",
    "    include_poi_ids=False\n",
    ")"
   ]
  },
  {
   "attachments": {},
   "cell_type": "markdown",
   "id": "47f618b5-ae92-40ba-a904-fc5e843a58a3",
   "metadata": {},
   "source": [
    "## Accessibility analysis"
   ]
  },
  {
   "cell_type": "code",
   "execution_count": null,
   "id": "db39481e-548d-4faa-bca0-a37034ce7be6",
   "metadata": {
    "tags": []
   },
   "outputs": [],
   "source": [
    "# add target points to network\n",
    "node_ids = network.get_node_ids(x_col=, y_col=)\n",
    "network.set(node_ids, name=\"parks\")"
   ]
  },
  {
   "cell_type": "code",
   "execution_count": null,
   "id": "6410eb4e-5e68-4c94-b99f-c2db3e708585",
   "metadata": {
    "tags": []
   },
   "outputs": [],
   "source": [
    "# for all nodes, find how many parks fall within 800m\n",
    "accessibility = network.aggregate(\n",
    "    distance=800,\n",
    "    type=\"count\",\n",
    "    name=\"parks\"\n",
    ")"
   ]
  },
  {
   "cell_type": "code",
   "execution_count": null,
   "id": "7260d582-cf0e-450a-8fbd-83cb5351dfa8",
   "metadata": {
    "tags": []
   },
   "outputs": [],
   "source": [
    "# visualize nodes using accessibility\n",
    "fig, ax = plt.subplots(1, 1, figsize=(10,8))\n",
    "plt.title('Delft: Parks within 800m')\n",
    "parks.plot(\n",
    "    ax=ax,\n",
    "    color=\"green\"\n",
    ")\n",
    "plt.scatter(\n",
    "    nodes[\"x\"], \n",
    "    nodes[\"y\"], \n",
    "    c=accessibility, \n",
    "    s=1, \n",
    "    cmap='autumn', \n",
    "    norm=matplotlib.colors.LogNorm()\n",
    ")\n",
    "cb = plt.colorbar()"
   ]
  },
  {
   "cell_type": "code",
   "execution_count": null,
   "id": "d4a184da-965a-4c5f-b6cb-3c00e11a15aa",
   "metadata": {
    "tags": []
   },
   "outputs": [],
   "source": [
    "# assign accessibility of buildings using closest nodes \n",
    "node_ids = network.get_node_ids(\n",
    "    x_col=, \n",
    "    y_col=\n",
    ")\n",
    "buildings[\"accessibility\"] = node_ids.map(accessibility.to_dict())"
   ]
  },
  {
   "cell_type": "code",
   "execution_count": null,
   "id": "588f4058-02d3-45b1-acdc-f9f41889dfe8",
   "metadata": {
    "tags": []
   },
   "outputs": [],
   "source": [
    "# visualize buildings using accessibility\n",
    "fig, ax = plt.subplots(1, 1, figsize=(10,8))\n",
    "plt.title('Delft: Parks within 800m')\n",
    "parks.plot(\n",
    "    ax=ax,\n",
    "    color=\"green\"\n",
    ")\n",
    "buildings.plot(\n",
    "    ax=ax,\n",
    "    column=\"accessibility\",  \n",
    "    cmap=\"autumn\",\n",
    "    norm=matplotlib.colors.LogNorm(),\n",
    "    figsize=(10,8),\n",
    ")"
   ]
  }
 ],
 "metadata": {
  "kernelspec": {
   "display_name": "Python 3 (ipykernel)",
   "language": "python",
   "name": "python3"
  },
  "language_info": {
   "codemirror_mode": {
    "name": "ipython",
    "version": 3
   },
   "file_extension": ".py",
   "mimetype": "text/x-python",
   "name": "python",
   "nbconvert_exporter": "python",
   "pygments_lexer": "ipython3",
   "version": "3.10.11"
  }
 },
 "nbformat": 4,
 "nbformat_minor": 5
}
