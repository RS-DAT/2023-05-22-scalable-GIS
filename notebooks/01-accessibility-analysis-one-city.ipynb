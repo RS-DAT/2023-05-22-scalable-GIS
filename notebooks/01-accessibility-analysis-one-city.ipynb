{
 "cells": [
  {
   "attachments": {},
   "cell_type": "markdown",
   "id": "7b7fb009-1bbd-4b4e-9bb9-1f4aed3b211a",
   "metadata": {},
   "source": [
    "# Proximity and Accessibility analysis using Pandana\n",
    "\n",
    "In this part, we will demonstrate how to perform proximity and accessibility analysis using the `pandana` library. The analysis will be carried out to one city: Delft.\n",
    "\n",
    "In the next part, we will see how to scale this up to 9 cities."
   ]
  },
  {
   "attachments": {},
   "cell_type": "markdown",
   "id": "730655ed",
   "metadata": {},
   "source": [
    "## Set up environment"
   ]
  },
  {
   "cell_type": "code",
   "execution_count": 1,
   "id": "ae21fa3b-9c40-4f59-b340-e15f9bffa037",
   "metadata": {
    "tags": []
   },
   "outputs": [],
   "source": [
    "import os\n",
    "os.environ[\"OMP_NUM_THREADS\"] = \"1\"  # disable Pandana multithreading \n",
    "os.environ[\"USE_PYGEOS\"] = \"0\"  # suppress geopandas warning\n",
    "\n",
    "import pandana\n",
    "import geopandas as gpd\n",
    "import matplotlib\n",
    "import matplotlib.pyplot as plt"
   ]
  },
  {
   "attachments": {},
   "cell_type": "markdown",
   "id": "086b5e17",
   "metadata": {},
   "source": [
    "## Data Loading\n",
    "\n",
    "We will load data from the following path on Spider: `/project/stursdat/Data/ScalableGIS/Part2/data_9_cities`. We use the `pathlib.Path` library to handle the path object."
   ]
  },
  {
   "cell_type": "code",
   "execution_count": 2,
   "id": "f0f805bc",
   "metadata": {},
   "outputs": [],
   "source": [
    "from pathlib import Path\n",
    "\n",
    "data_folder = Path(\"data\")"
   ]
  },
  {
   "attachments": {},
   "cell_type": "markdown",
   "id": "9a9541fe",
   "metadata": {},
   "source": [
    "In the `data_9_cities` folder, there are 9 folders for 9 Dutch cities. Within each city folder, there are `.shp` files for four componets of that city:\n",
    "\n",
    "- **buildings**: building polygons\n",
    "- **parks**: park polygons\n",
    "- **nodes**: street network nodes\n",
    "- **edges**: street network edges\n"
   ]
  },
  {
   "cell_type": "code",
   "execution_count": 3,
   "id": "8cafcad9",
   "metadata": {},
   "outputs": [
    {
     "data": {
      "text/plain": [
       "[PosixPath('data/Arnhem'),\n",
       " PosixPath('data/Amersfoort'),\n",
       " PosixPath('data/Nijmegen'),\n",
       " PosixPath('data/Breda'),\n",
       " PosixPath('data/Enschede'),\n",
       " PosixPath('data/Delft'),\n",
       " PosixPath('data/Leiden'),\n",
       " PosixPath('data/Gouda'),\n",
       " PosixPath('data/Deventer')]"
      ]
     },
     "execution_count": 3,
     "metadata": {},
     "output_type": "execute_result"
    }
   ],
   "source": [
    "# Check city folders in the data directory\n",
    "[d for d in data_folder.glob('*')]"
   ]
  },
  {
   "cell_type": "code",
   "execution_count": 4,
   "id": "91a553c2",
   "metadata": {},
   "outputs": [
    {
     "data": {
      "text/plain": [
       "[PosixPath('data/Delft/parks_Delft.shp'),\n",
       " PosixPath('data/Delft/edges_Delft.shp'),\n",
       " PosixPath('data/Delft/buildings_Delft.shp'),\n",
       " PosixPath('data/Delft/nodes_Delft.shp')]"
      ]
     },
     "execution_count": 4,
     "metadata": {},
     "output_type": "execute_result"
    }
   ],
   "source": [
    "# Check .shp files in Delft\n",
    "[d for d in data_folder.glob('Delft/*.shp')]"
   ]
  },
  {
   "cell_type": "code",
   "execution_count": 5,
   "id": "ba0dd14d",
   "metadata": {},
   "outputs": [],
   "source": [
    "# For now we focus on the city Delft\n",
    "city = 'Delft'"
   ]
  },
  {
   "cell_type": "code",
   "execution_count": 6,
   "id": "b2d00fa1",
   "metadata": {},
   "outputs": [],
   "source": [
    "# Paths to the files\n",
    "p_nodes = data_folder / city / \"nodes_{}.shp\".format(city)\n",
    "p_edges = data_folder / city / \"edges_{}.shp\".format(city)\n",
    "p_parks = data_folder / city / \"parks_{}.shp\".format(city)\n",
    "p_buildings = data_folder / city / \"buildings_{}.shp\".format(city)"
   ]
  },
  {
   "cell_type": "code",
   "execution_count": 7,
   "id": "bddcdaa3",
   "metadata": {},
   "outputs": [
    {
     "name": "stdout",
     "output_type": "stream",
     "text": [
      "True\n",
      "True\n",
      "True\n",
      "True\n"
     ]
    }
   ],
   "source": [
    "# Check if paths exist\n",
    "for p in [p_nodes, p_edges, p_parks, p_buildings]:\n",
    "    print(p.exists())"
   ]
  },
  {
   "cell_type": "code",
   "execution_count": 9,
   "id": "f338e38f-1620-4257-9b79-0b2d635077db",
   "metadata": {
    "tags": []
   },
   "outputs": [],
   "source": [
    "# load data with GeoPandas\n",
    "nodes = gpd.read_file(p_nodes)\n",
    "edges = gpd.read_file(p_edges)\n",
    "parks = gpd.read_file(p_parks)\n",
    "buildings = gpd.read_file(p_buildings)"
   ]
  },
  {
   "cell_type": "code",
   "execution_count": 11,
   "id": "f17d8557",
   "metadata": {},
   "outputs": [
    {
     "data": {
      "text/html": [
       "<div>\n",
       "<style scoped>\n",
       "    .dataframe tbody tr th:only-of-type {\n",
       "        vertical-align: middle;\n",
       "    }\n",
       "\n",
       "    .dataframe tbody tr th {\n",
       "        vertical-align: top;\n",
       "    }\n",
       "\n",
       "    .dataframe thead th {\n",
       "        text-align: right;\n",
       "    }\n",
       "</style>\n",
       "<table border=\"1\" class=\"dataframe\">\n",
       "  <thead>\n",
       "    <tr style=\"text-align: right;\">\n",
       "      <th></th>\n",
       "      <th>u</th>\n",
       "      <th>v</th>\n",
       "      <th>key</th>\n",
       "      <th>length</th>\n",
       "      <th>geometry</th>\n",
       "    </tr>\n",
       "  </thead>\n",
       "  <tbody>\n",
       "    <tr>\n",
       "      <th>0</th>\n",
       "      <td>25315544</td>\n",
       "      <td>493868196</td>\n",
       "      <td>0</td>\n",
       "      <td>30.991</td>\n",
       "      <td>LINESTRING (86125.744 448869.147, 86106.344 44...</td>\n",
       "    </tr>\n",
       "    <tr>\n",
       "      <th>1</th>\n",
       "      <td>25316215</td>\n",
       "      <td>1432937725</td>\n",
       "      <td>0</td>\n",
       "      <td>87.869</td>\n",
       "      <td>LINESTRING (85821.048 448466.589, 85827.203 44...</td>\n",
       "    </tr>\n",
       "    <tr>\n",
       "      <th>2</th>\n",
       "      <td>25316229</td>\n",
       "      <td>1271057030</td>\n",
       "      <td>0</td>\n",
       "      <td>206.947</td>\n",
       "      <td>LINESTRING (86299.010 448536.557, 86295.641 44...</td>\n",
       "    </tr>\n",
       "    <tr>\n",
       "      <th>3</th>\n",
       "      <td>25316229</td>\n",
       "      <td>302097504</td>\n",
       "      <td>0</td>\n",
       "      <td>25.239</td>\n",
       "      <td>LINESTRING (86299.010 448536.557, 86304.549 44...</td>\n",
       "    </tr>\n",
       "    <tr>\n",
       "      <th>4</th>\n",
       "      <td>25316229</td>\n",
       "      <td>302095241</td>\n",
       "      <td>0</td>\n",
       "      <td>25.849</td>\n",
       "      <td>LINESTRING (86299.010 448536.557, 86291.946 44...</td>\n",
       "    </tr>\n",
       "    <tr>\n",
       "      <th>...</th>\n",
       "      <td>...</td>\n",
       "      <td>...</td>\n",
       "      <td>...</td>\n",
       "      <td>...</td>\n",
       "      <td>...</td>\n",
       "    </tr>\n",
       "    <tr>\n",
       "      <th>26747</th>\n",
       "      <td>10885892864</td>\n",
       "      <td>9733120577</td>\n",
       "      <td>0</td>\n",
       "      <td>115.073</td>\n",
       "      <td>LINESTRING (83422.409 445125.064, 83421.421 44...</td>\n",
       "    </tr>\n",
       "    <tr>\n",
       "      <th>26748</th>\n",
       "      <td>10885892891</td>\n",
       "      <td>10885892892</td>\n",
       "      <td>0</td>\n",
       "      <td>7.328</td>\n",
       "      <td>LINESTRING (83431.408 444929.117, 83424.056 44...</td>\n",
       "    </tr>\n",
       "    <tr>\n",
       "      <th>26749</th>\n",
       "      <td>10885892892</td>\n",
       "      <td>9733120579</td>\n",
       "      <td>0</td>\n",
       "      <td>23.696</td>\n",
       "      <td>LINESTRING (83424.056 444929.078, 83423.544 44...</td>\n",
       "    </tr>\n",
       "    <tr>\n",
       "      <th>26750</th>\n",
       "      <td>10885892892</td>\n",
       "      <td>9733120575</td>\n",
       "      <td>0</td>\n",
       "      <td>16.168</td>\n",
       "      <td>LINESTRING (83424.056 444929.078, 83424.336 44...</td>\n",
       "    </tr>\n",
       "    <tr>\n",
       "      <th>26751</th>\n",
       "      <td>10885892892</td>\n",
       "      <td>10885892891</td>\n",
       "      <td>0</td>\n",
       "      <td>7.328</td>\n",
       "      <td>LINESTRING (83424.056 444929.078, 83431.408 44...</td>\n",
       "    </tr>\n",
       "  </tbody>\n",
       "</table>\n",
       "<p>26752 rows × 5 columns</p>\n",
       "</div>"
      ],
      "text/plain": [
       "                 u            v  key   length   \n",
       "0         25315544    493868196    0   30.991  \\\n",
       "1         25316215   1432937725    0   87.869   \n",
       "2         25316229   1271057030    0  206.947   \n",
       "3         25316229    302097504    0   25.239   \n",
       "4         25316229    302095241    0   25.849   \n",
       "...            ...          ...  ...      ...   \n",
       "26747  10885892864   9733120577    0  115.073   \n",
       "26748  10885892891  10885892892    0    7.328   \n",
       "26749  10885892892   9733120579    0   23.696   \n",
       "26750  10885892892   9733120575    0   16.168   \n",
       "26751  10885892892  10885892891    0    7.328   \n",
       "\n",
       "                                                geometry  \n",
       "0      LINESTRING (86125.744 448869.147, 86106.344 44...  \n",
       "1      LINESTRING (85821.048 448466.589, 85827.203 44...  \n",
       "2      LINESTRING (86299.010 448536.557, 86295.641 44...  \n",
       "3      LINESTRING (86299.010 448536.557, 86304.549 44...  \n",
       "4      LINESTRING (86299.010 448536.557, 86291.946 44...  \n",
       "...                                                  ...  \n",
       "26747  LINESTRING (83422.409 445125.064, 83421.421 44...  \n",
       "26748  LINESTRING (83431.408 444929.117, 83424.056 44...  \n",
       "26749  LINESTRING (83424.056 444929.078, 83423.544 44...  \n",
       "26750  LINESTRING (83424.056 444929.078, 83424.336 44...  \n",
       "26751  LINESTRING (83424.056 444929.078, 83431.408 44...  \n",
       "\n",
       "[26752 rows x 5 columns]"
      ]
     },
     "execution_count": 11,
     "metadata": {},
     "output_type": "execute_result"
    }
   ],
   "source": [
    "edges"
   ]
  },
  {
   "cell_type": "code",
   "execution_count": 12,
   "id": "3182012d",
   "metadata": {},
   "outputs": [],
   "source": [
    "# Set indexes for nodes and edges\n",
    "nodes = nodes.set_index(\"osmid\", drop=False)\n",
    "edges = edges.set_index([\"u\", \"v\"], drop=False)"
   ]
  },
  {
   "cell_type": "code",
   "execution_count": 13,
   "id": "e8384986-0c73-4dee-b16d-5158fdb86fbf",
   "metadata": {
    "tags": []
   },
   "outputs": [
    {
     "name": "stdout",
     "output_type": "stream",
     "text": [
      "Generating contraction hierarchies with 1 threads.\n",
      "Setting CH node vector of size 9762\n",
      "Setting CH edge vector of size 27352\n",
      "Range graph removed 28274 edges of 54704\n",
      ". 10% . 20% . 30% . 40% . 50% . 60% . 70% . 80% . 90% . 100%\n",
      " 100% "
     ]
    }
   ],
   "source": [
    "# setup a network\n",
    "network = pandana.Network(\n",
    "    node_x=nodes[\"x\"], \n",
    "    node_y=nodes[\"y\"], \n",
    "    edge_from=edges[\"u\"], \n",
    "    edge_to=edges[\"v\"], \n",
    "    edge_weights=edges[[\"length\"]],\n",
    ")"
   ]
  },
  {
   "cell_type": "code",
   "execution_count": 23,
   "id": "4e61ce17",
   "metadata": {},
   "outputs": [
    {
     "data": {
      "text/plain": [
       "<pandana.network.Network at 0x7f86a5d5b010>"
      ]
     },
     "execution_count": 23,
     "metadata": {},
     "output_type": "execute_result"
    }
   ],
   "source": [
    "network"
   ]
  },
  {
   "attachments": {},
   "cell_type": "markdown",
   "id": "0287c981-61d3-451c-946d-6a8f42a7cd35",
   "metadata": {},
   "source": [
    "## Proximity analysis "
   ]
  },
  {
   "cell_type": "code",
   "execution_count": null,
   "id": "a543898a-3e68-4233-a188-c29a0f63a2e1",
   "metadata": {
    "tags": []
   },
   "outputs": [],
   "source": [
    "# add point of interests to network\n",
    "network.set_pois(\n",
    "    category=\"parks\",\n",
    "    maxdist=1000,\n",
    "    maxitems=25,\n",
    "    x_col=parks.centroid.x,\n",
    "    y_col=parks.centroid.y,\n",
    ")"
   ]
  },
  {
   "cell_type": "code",
   "execution_count": null,
   "id": "8e15ff24-99e8-49f2-9727-4ec41f23577c",
   "metadata": {
    "tags": []
   },
   "outputs": [],
   "source": [
    "# for all nodes, find 3 closest parks within 800m\n",
    "results = network.nearest_pois(\n",
    "    distance=800,\n",
    "    category=\"parks\",\n",
    "    num_pois=3,\n",
    "    include_poi_ids=False\n",
    ")"
   ]
  },
  {
   "cell_type": "code",
   "execution_count": null,
   "id": "d52e6e37-09b8-453e-880e-a1f8b4017c80",
   "metadata": {
    "tags": []
   },
   "outputs": [],
   "source": [
    "results.describe()"
   ]
  },
  {
   "attachments": {},
   "cell_type": "markdown",
   "id": "47f618b5-ae92-40ba-a904-fc5e843a58a3",
   "metadata": {},
   "source": [
    "## Accessibility analysis"
   ]
  },
  {
   "cell_type": "code",
   "execution_count": null,
   "id": "db39481e-548d-4faa-bca0-a37034ce7be6",
   "metadata": {
    "tags": []
   },
   "outputs": [],
   "source": [
    "# add target points to network\n",
    "node_ids = network.get_node_ids(parks.centroid.x, y_col=parks.centroid.y)\n",
    "network.set(node_ids, name=\"parks\")"
   ]
  },
  {
   "cell_type": "code",
   "execution_count": null,
   "id": "6410eb4e-5e68-4c94-b99f-c2db3e708585",
   "metadata": {
    "tags": []
   },
   "outputs": [],
   "source": [
    "# for all nodes, find how many parks fall within 800m\n",
    "accessibility = network.aggregate(\n",
    "    distance=800,\n",
    "    type=\"count\",\n",
    "    name=\"parks\"\n",
    ")"
   ]
  },
  {
   "cell_type": "code",
   "execution_count": null,
   "id": "7260d582-cf0e-450a-8fbd-83cb5351dfa8",
   "metadata": {
    "tags": []
   },
   "outputs": [],
   "source": [
    "# visualize nodes using accessibility\n",
    "fig, ax = plt.subplots(1, 1, figsize=(10,8))\n",
    "plt.title('Delft: Parks within 800m')\n",
    "parks.plot(\n",
    "    ax=ax,\n",
    "    color=\"green\"\n",
    ")\n",
    "plt.scatter(\n",
    "    nodes[\"x\"], \n",
    "    nodes[\"y\"], \n",
    "    c=accessibility, \n",
    "    s=1, \n",
    "    cmap='autumn', \n",
    "    norm=matplotlib.colors.LogNorm()\n",
    ")\n",
    "cb = plt.colorbar()"
   ]
  },
  {
   "cell_type": "code",
   "execution_count": null,
   "id": "d4a184da-965a-4c5f-b6cb-3c00e11a15aa",
   "metadata": {
    "tags": []
   },
   "outputs": [],
   "source": [
    "# assign accessibility of buildings using closest nodes \n",
    "node_ids = network.get_node_ids(\n",
    "    x_col=buildings.centroid.x, \n",
    "    y_col=buildings.centroid.y\n",
    ")\n",
    "buildings[\"accessibility\"] = node_ids.map(accessibility.to_dict())"
   ]
  },
  {
   "cell_type": "code",
   "execution_count": null,
   "id": "588f4058-02d3-45b1-acdc-f9f41889dfe8",
   "metadata": {
    "tags": []
   },
   "outputs": [],
   "source": [
    "# visualize buildings using accessibility\n",
    "fig, ax = plt.subplots(1, 1, figsize=(10,8))\n",
    "plt.title('Delft: Parks within 800m')\n",
    "parks.plot(\n",
    "    ax=ax,\n",
    "    color=\"green\"\n",
    ")\n",
    "buildings.plot(\n",
    "    ax=ax,\n",
    "    column=\"accessibility\",  \n",
    "    cmap=\"autumn\",\n",
    "    norm=matplotlib.colors.LogNorm(),\n",
    "    figsize=(10,8),\n",
    ")"
   ]
  }
 ],
 "metadata": {
  "kernelspec": {
   "display_name": "Python 3 (ipykernel)",
   "language": "python",
   "name": "python3"
  },
  "language_info": {
   "codemirror_mode": {
    "name": "ipython",
    "version": 3
   },
   "file_extension": ".py",
   "mimetype": "text/x-python",
   "name": "python",
   "nbconvert_exporter": "python",
   "pygments_lexer": "ipython3",
   "version": "3.10.11"
  }
 },
 "nbformat": 4,
 "nbformat_minor": 5
}
