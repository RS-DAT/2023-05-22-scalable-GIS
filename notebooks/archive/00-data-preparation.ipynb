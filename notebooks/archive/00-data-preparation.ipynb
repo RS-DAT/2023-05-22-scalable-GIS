{
 "cells": [
  {
   "cell_type": "code",
   "execution_count": 1,
   "id": "f9f6025d-d571-4476-9796-8015cf4da5a0",
   "metadata": {
    "tags": []
   },
   "outputs": [],
   "source": [
    "import os\n",
    "os.environ[\"USE_PYGEOS\"] = \"0\"  # suppress geopandas warning"
   ]
  },
  {
   "cell_type": "code",
   "execution_count": 2,
   "id": "b2f11f74-02ac-47fc-a673-a69d35833d40",
   "metadata": {
    "tags": []
   },
   "outputs": [],
   "source": [
    "import matplotlib.pyplot as plt\n",
    "import osmnx as ox"
   ]
  },
  {
   "attachments": {},
   "cell_type": "markdown",
   "id": "21fbd633-5c21-4529-ad93-4d5d9edde4a6",
   "metadata": {},
   "source": [
    "# Download OSM network data and geometries"
   ]
  },
  {
   "cell_type": "code",
   "execution_count": 3,
   "id": "801dd2dd",
   "metadata": {},
   "outputs": [],
   "source": [
    "# 9 cities in NL\n",
    "list_cities = [ \"Arnhem\", \"Breda\", \"Nijmegen\", \"Delft\", \"Amersfoort\", \"Leiden\", \"Enschede\", \"Deventer\", \"Gouda\"]\n",
    "country = \"NL\"\n",
    "crs_epsg = 28992  # RD"
   ]
  },
  {
   "cell_type": "code",
   "execution_count": 4,
   "id": "4a08a67f-0d7c-4c8f-ad80-f83867fdd1fd",
   "metadata": {
    "tags": []
   },
   "outputs": [
    {
     "name": "stdout",
     "output_type": "stream",
     "text": [
      "Amersfoort\n",
      "Leiden\n",
      "Enschede\n",
      "Deventer\n",
      "Gouda\n"
     ]
    }
   ],
   "source": [
    "# retrieve nodes and edges\n",
    "for city in list_cities:\n",
    "    place = city + \", NL\"\n",
    "    print(city)\n",
    "\n",
    "    G = ox.graph_from_place(place, network_type=\"walk\")\n",
    "\n",
    "    # extract nodes and edges\n",
    "    nodes, edges = ox.graph_to_gdfs(G)\n",
    "\n",
    "    # retrieve buildings\n",
    "    tags = {'building': True}\n",
    "    buildings = ox.geometries_from_place(place, tags)\n",
    "\n",
    "    # retrieve parks\n",
    "    tags = {'leisure': 'park', 'landuse': 'grass'}\n",
    "    parks = ox.geometries_from_place(place, tags)\n",
    "\n",
    "    # clean nodes\n",
    "    nodes = nodes[[\"geometry\"]]\n",
    "    nodes = nodes.to_crs(crs_epsg)\n",
    "    nodes[\"x\"] = nodes.geometry.x\n",
    "    nodes[\"y\"] = nodes.geometry.y\n",
    "\n",
    "    # clean edges\n",
    "    edges = edges.reset_index()\n",
    "    edges = edges[[\"u\", \"v\", \"key\", \"length\", \"geometry\"]]\n",
    "    edges = edges.to_crs(crs_epsg)\n",
    "\n",
    "    # clean parks\n",
    "    parks = parks.reset_index(\"element_type\")\n",
    "    parks = parks[parks[\"element_type\"] == \"way\"]\n",
    "    parks = parks[[\"geometry\"]]\n",
    "    parks = parks.to_crs(crs_epsg)\n",
    "\n",
    "    # clean buildings\n",
    "    buildings = buildings.reset_index(\"element_type\")\n",
    "    buildings = buildings[buildings[\"element_type\"] == \"way\"]\n",
    "    buildings = buildings[[\"geometry\"]]\n",
    "    buildings = buildings.to_crs(crs_epsg)\n",
    "\n",
    "    # write output\n",
    "    from pathlib import Path\n",
    "\n",
    "    p_data = Path(\"./data/\") / city\n",
    "    p_data.mkdir(parents=False)     \n",
    "    nodes.to_file(p_data / \"nodes_{}.shp\".format(city))\n",
    "    edges.to_file(p_data / \"edges_{}.shp\".format(city))\n",
    "    parks.to_file(p_data / \"parks_{}.shp\".format(city))\n",
    "    buildings.to_file(p_data / \"buildings_{}.shp\".format(city))\n",
    "    "
   ]
  }
 ],
 "metadata": {
  "kernelspec": {
   "display_name": "Python 3 (ipykernel)",
   "language": "python",
   "name": "python3"
  },
  "language_info": {
   "codemirror_mode": {
    "name": "ipython",
    "version": 3
   },
   "file_extension": ".py",
   "mimetype": "text/x-python",
   "name": "python",
   "nbconvert_exporter": "python",
   "pygments_lexer": "ipython3",
   "version": "3.10.11"
  }
 },
 "nbformat": 4,
 "nbformat_minor": 5
}
